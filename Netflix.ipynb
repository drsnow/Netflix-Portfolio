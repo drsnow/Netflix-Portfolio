{
 "cells": [
  {
   "cell_type": "code",
   "execution_count": 1,
   "metadata": {},
   "outputs": [],
   "source": [
    "import pandas as pd,numpy as np,matplotlib.pyplot as plt,seaborn as sns\n",
    "from sklearn.feature_extraction.text import CountVectorizer\n",
    "from sklearn.cluster import KMeans\n",
    "from sklearn.decomposition import PCA\n",
    "from sklearn.neighbors import NearestNeighbors\n",
    "from sklearn.feature_extraction.text import TfidfVectorizer\n",
    "from sklearn.metrics.pairwise import cosine_similarity\n",
    "\n",
    "df =  pd.read_csv(\"netflix_titles.csv\")\n"
   ]
  },
  {
   "cell_type": "markdown",
   "metadata": {},
   "source": [
    "# INFORMACIÓN GENERAL DEL DATASET"
   ]
  },
  {
   "cell_type": "code",
   "execution_count": 2,
   "metadata": {
    "scrolled": true
   },
   "outputs": [
    {
     "name": "stdout",
     "output_type": "stream",
     "text": [
      "<class 'pandas.core.frame.DataFrame'>\n",
      "RangeIndex: 8807 entries, 0 to 8806\n",
      "Data columns (total 12 columns):\n",
      " #   Column        Non-Null Count  Dtype \n",
      "---  ------        --------------  ----- \n",
      " 0   show_id       8807 non-null   object\n",
      " 1   type          8807 non-null   object\n",
      " 2   title         8807 non-null   object\n",
      " 3   director      6173 non-null   object\n",
      " 4   cast          7982 non-null   object\n",
      " 5   country       7976 non-null   object\n",
      " 6   date_added    8797 non-null   object\n",
      " 7   release_year  8807 non-null   int64 \n",
      " 8   rating        8803 non-null   object\n",
      " 9   duration      8804 non-null   object\n",
      " 10  listed_in     8807 non-null   object\n",
      " 11  description   8807 non-null   object\n",
      "dtypes: int64(1), object(11)\n",
      "memory usage: 447.3+ KB\n"
     ]
    }
   ],
   "source": [
    "df.info()"
   ]
  },
  {
   "cell_type": "code",
   "execution_count": 3,
   "metadata": {},
   "outputs": [
    {
     "data": {
      "text/plain": [
       "RangeIndex(start=0, stop=8807, step=1)"
      ]
     },
     "execution_count": 3,
     "metadata": {},
     "output_type": "execute_result"
    }
   ],
   "source": [
    "df.index"
   ]
  },
  {
   "cell_type": "code",
   "execution_count": 4,
   "metadata": {},
   "outputs": [
    {
     "data": {
      "text/plain": [
       "(8807, 12)"
      ]
     },
     "execution_count": 4,
     "metadata": {},
     "output_type": "execute_result"
    }
   ],
   "source": [
    "df.shape"
   ]
  },
  {
   "cell_type": "code",
   "execution_count": 5,
   "metadata": {},
   "outputs": [
    {
     "data": {
      "text/plain": [
       "show_id            0\n",
       "type               0\n",
       "title              0\n",
       "director        2634\n",
       "cast             825\n",
       "country          831\n",
       "date_added        10\n",
       "release_year       0\n",
       "rating             4\n",
       "duration           3\n",
       "listed_in          0\n",
       "description        0\n",
       "dtype: int64"
      ]
     },
     "execution_count": 5,
     "metadata": {},
     "output_type": "execute_result"
    }
   ],
   "source": [
    "df.isnull().sum()"
   ]
  },
  {
   "cell_type": "code",
   "execution_count": 6,
   "metadata": {},
   "outputs": [
    {
     "data": {
      "text/html": [
       "<div>\n",
       "<style scoped>\n",
       "    .dataframe tbody tr th:only-of-type {\n",
       "        vertical-align: middle;\n",
       "    }\n",
       "\n",
       "    .dataframe tbody tr th {\n",
       "        vertical-align: top;\n",
       "    }\n",
       "\n",
       "    .dataframe thead th {\n",
       "        text-align: right;\n",
       "    }\n",
       "</style>\n",
       "<table border=\"1\" class=\"dataframe\">\n",
       "  <thead>\n",
       "    <tr style=\"text-align: right;\">\n",
       "      <th></th>\n",
       "      <th>show_id</th>\n",
       "      <th>type</th>\n",
       "      <th>title</th>\n",
       "      <th>director</th>\n",
       "      <th>cast</th>\n",
       "      <th>country</th>\n",
       "      <th>date_added</th>\n",
       "      <th>release_year</th>\n",
       "      <th>rating</th>\n",
       "      <th>duration</th>\n",
       "      <th>listed_in</th>\n",
       "      <th>description</th>\n",
       "    </tr>\n",
       "  </thead>\n",
       "  <tbody>\n",
       "    <tr>\n",
       "      <th>0</th>\n",
       "      <td>s1</td>\n",
       "      <td>Movie</td>\n",
       "      <td>Dick Johnson Is Dead</td>\n",
       "      <td>Kirsten Johnson</td>\n",
       "      <td>NaN</td>\n",
       "      <td>United States</td>\n",
       "      <td>September 25, 2021</td>\n",
       "      <td>2020</td>\n",
       "      <td>PG-13</td>\n",
       "      <td>90 min</td>\n",
       "      <td>Documentaries</td>\n",
       "      <td>As her father nears the end of his life, filmm...</td>\n",
       "    </tr>\n",
       "    <tr>\n",
       "      <th>1</th>\n",
       "      <td>s2</td>\n",
       "      <td>TV Show</td>\n",
       "      <td>Blood &amp; Water</td>\n",
       "      <td>NaN</td>\n",
       "      <td>Ama Qamata, Khosi Ngema, Gail Mabalane, Thaban...</td>\n",
       "      <td>South Africa</td>\n",
       "      <td>September 24, 2021</td>\n",
       "      <td>2021</td>\n",
       "      <td>TV-MA</td>\n",
       "      <td>2 Seasons</td>\n",
       "      <td>International TV Shows, TV Dramas, TV Mysteries</td>\n",
       "      <td>After crossing paths at a party, a Cape Town t...</td>\n",
       "    </tr>\n",
       "    <tr>\n",
       "      <th>2</th>\n",
       "      <td>s3</td>\n",
       "      <td>TV Show</td>\n",
       "      <td>Ganglands</td>\n",
       "      <td>Julien Leclercq</td>\n",
       "      <td>Sami Bouajila, Tracy Gotoas, Samuel Jouy, Nabi...</td>\n",
       "      <td>NaN</td>\n",
       "      <td>September 24, 2021</td>\n",
       "      <td>2021</td>\n",
       "      <td>TV-MA</td>\n",
       "      <td>1 Season</td>\n",
       "      <td>Crime TV Shows, International TV Shows, TV Act...</td>\n",
       "      <td>To protect his family from a powerful drug lor...</td>\n",
       "    </tr>\n",
       "    <tr>\n",
       "      <th>3</th>\n",
       "      <td>s4</td>\n",
       "      <td>TV Show</td>\n",
       "      <td>Jailbirds New Orleans</td>\n",
       "      <td>NaN</td>\n",
       "      <td>NaN</td>\n",
       "      <td>NaN</td>\n",
       "      <td>September 24, 2021</td>\n",
       "      <td>2021</td>\n",
       "      <td>TV-MA</td>\n",
       "      <td>1 Season</td>\n",
       "      <td>Docuseries, Reality TV</td>\n",
       "      <td>Feuds, flirtations and toilet talk go down amo...</td>\n",
       "    </tr>\n",
       "    <tr>\n",
       "      <th>4</th>\n",
       "      <td>s5</td>\n",
       "      <td>TV Show</td>\n",
       "      <td>Kota Factory</td>\n",
       "      <td>NaN</td>\n",
       "      <td>Mayur More, Jitendra Kumar, Ranjan Raj, Alam K...</td>\n",
       "      <td>India</td>\n",
       "      <td>September 24, 2021</td>\n",
       "      <td>2021</td>\n",
       "      <td>TV-MA</td>\n",
       "      <td>2 Seasons</td>\n",
       "      <td>International TV Shows, Romantic TV Shows, TV ...</td>\n",
       "      <td>In a city of coaching centers known to train I...</td>\n",
       "    </tr>\n",
       "  </tbody>\n",
       "</table>\n",
       "</div>"
      ],
      "text/plain": [
       "  show_id     type                  title         director  \\\n",
       "0      s1    Movie   Dick Johnson Is Dead  Kirsten Johnson   \n",
       "1      s2  TV Show          Blood & Water              NaN   \n",
       "2      s3  TV Show              Ganglands  Julien Leclercq   \n",
       "3      s4  TV Show  Jailbirds New Orleans              NaN   \n",
       "4      s5  TV Show           Kota Factory              NaN   \n",
       "\n",
       "                                                cast        country  \\\n",
       "0                                                NaN  United States   \n",
       "1  Ama Qamata, Khosi Ngema, Gail Mabalane, Thaban...   South Africa   \n",
       "2  Sami Bouajila, Tracy Gotoas, Samuel Jouy, Nabi...            NaN   \n",
       "3                                                NaN            NaN   \n",
       "4  Mayur More, Jitendra Kumar, Ranjan Raj, Alam K...          India   \n",
       "\n",
       "           date_added  release_year rating   duration  \\\n",
       "0  September 25, 2021          2020  PG-13     90 min   \n",
       "1  September 24, 2021          2021  TV-MA  2 Seasons   \n",
       "2  September 24, 2021          2021  TV-MA   1 Season   \n",
       "3  September 24, 2021          2021  TV-MA   1 Season   \n",
       "4  September 24, 2021          2021  TV-MA  2 Seasons   \n",
       "\n",
       "                                           listed_in  \\\n",
       "0                                      Documentaries   \n",
       "1    International TV Shows, TV Dramas, TV Mysteries   \n",
       "2  Crime TV Shows, International TV Shows, TV Act...   \n",
       "3                             Docuseries, Reality TV   \n",
       "4  International TV Shows, Romantic TV Shows, TV ...   \n",
       "\n",
       "                                         description  \n",
       "0  As her father nears the end of his life, filmm...  \n",
       "1  After crossing paths at a party, a Cape Town t...  \n",
       "2  To protect his family from a powerful drug lor...  \n",
       "3  Feuds, flirtations and toilet talk go down amo...  \n",
       "4  In a city of coaching centers known to train I...  "
      ]
     },
     "execution_count": 6,
     "metadata": {},
     "output_type": "execute_result"
    }
   ],
   "source": [
    "df.head()"
   ]
  },
  {
   "cell_type": "markdown",
   "metadata": {},
   "source": [
    "# LIMPIEZA DATASET"
   ]
  },
  {
   "cell_type": "markdown",
   "metadata": {},
   "source": [
    "## 🧹 Limpieza de datos \n",
    "\n",
    "\n",
    "   \n",
    "\n",
    "\n"
   ]
  },
  {
   "cell_type": "code",
   "execution_count": 7,
   "metadata": {},
   "outputs": [],
   "source": [
    "# Corregimos tipo de dato(date_added) y extraemos mes y año\n",
    "df['date_added']= pd.to_datetime(df['date_added'],errors='coerce')\n",
    "#Comprobamos que hemos cambiado el tipo\n",
    "#print(df['date_added'].dtype)"
   ]
  },
  {
   "cell_type": "code",
   "execution_count": 8,
   "metadata": {
    "scrolled": true
   },
   "outputs": [
    {
     "data": {
      "text/html": [
       "<div>\n",
       "<style scoped>\n",
       "    .dataframe tbody tr th:only-of-type {\n",
       "        vertical-align: middle;\n",
       "    }\n",
       "\n",
       "    .dataframe tbody tr th {\n",
       "        vertical-align: top;\n",
       "    }\n",
       "\n",
       "    .dataframe thead th {\n",
       "        text-align: right;\n",
       "    }\n",
       "</style>\n",
       "<table border=\"1\" class=\"dataframe\">\n",
       "  <thead>\n",
       "    <tr style=\"text-align: right;\">\n",
       "      <th></th>\n",
       "      <th>show_id</th>\n",
       "      <th>type</th>\n",
       "      <th>title</th>\n",
       "      <th>director</th>\n",
       "      <th>cast</th>\n",
       "      <th>country</th>\n",
       "      <th>date_added</th>\n",
       "      <th>release_year</th>\n",
       "      <th>rating</th>\n",
       "      <th>duration</th>\n",
       "      <th>listed_in</th>\n",
       "      <th>description</th>\n",
       "      <th>year_added</th>\n",
       "      <th>month_added</th>\n",
       "    </tr>\n",
       "  </thead>\n",
       "  <tbody>\n",
       "    <tr>\n",
       "      <th>0</th>\n",
       "      <td>s1</td>\n",
       "      <td>Movie</td>\n",
       "      <td>Dick Johnson Is Dead</td>\n",
       "      <td>Kirsten Johnson</td>\n",
       "      <td>NaN</td>\n",
       "      <td>United States</td>\n",
       "      <td>2021-09-25</td>\n",
       "      <td>2020</td>\n",
       "      <td>PG-13</td>\n",
       "      <td>90 min</td>\n",
       "      <td>Documentaries</td>\n",
       "      <td>As her father nears the end of his life, filmm...</td>\n",
       "      <td>2021.0</td>\n",
       "      <td>September</td>\n",
       "    </tr>\n",
       "    <tr>\n",
       "      <th>1</th>\n",
       "      <td>s2</td>\n",
       "      <td>TV Show</td>\n",
       "      <td>Blood &amp; Water</td>\n",
       "      <td>NaN</td>\n",
       "      <td>Ama Qamata, Khosi Ngema, Gail Mabalane, Thaban...</td>\n",
       "      <td>South Africa</td>\n",
       "      <td>2021-09-24</td>\n",
       "      <td>2021</td>\n",
       "      <td>TV-MA</td>\n",
       "      <td>2 Seasons</td>\n",
       "      <td>International TV Shows, TV Dramas, TV Mysteries</td>\n",
       "      <td>After crossing paths at a party, a Cape Town t...</td>\n",
       "      <td>2021.0</td>\n",
       "      <td>September</td>\n",
       "    </tr>\n",
       "    <tr>\n",
       "      <th>2</th>\n",
       "      <td>s3</td>\n",
       "      <td>TV Show</td>\n",
       "      <td>Ganglands</td>\n",
       "      <td>Julien Leclercq</td>\n",
       "      <td>Sami Bouajila, Tracy Gotoas, Samuel Jouy, Nabi...</td>\n",
       "      <td>NaN</td>\n",
       "      <td>2021-09-24</td>\n",
       "      <td>2021</td>\n",
       "      <td>TV-MA</td>\n",
       "      <td>1 Season</td>\n",
       "      <td>Crime TV Shows, International TV Shows, TV Act...</td>\n",
       "      <td>To protect his family from a powerful drug lor...</td>\n",
       "      <td>2021.0</td>\n",
       "      <td>September</td>\n",
       "    </tr>\n",
       "    <tr>\n",
       "      <th>3</th>\n",
       "      <td>s4</td>\n",
       "      <td>TV Show</td>\n",
       "      <td>Jailbirds New Orleans</td>\n",
       "      <td>NaN</td>\n",
       "      <td>NaN</td>\n",
       "      <td>NaN</td>\n",
       "      <td>2021-09-24</td>\n",
       "      <td>2021</td>\n",
       "      <td>TV-MA</td>\n",
       "      <td>1 Season</td>\n",
       "      <td>Docuseries, Reality TV</td>\n",
       "      <td>Feuds, flirtations and toilet talk go down amo...</td>\n",
       "      <td>2021.0</td>\n",
       "      <td>September</td>\n",
       "    </tr>\n",
       "    <tr>\n",
       "      <th>4</th>\n",
       "      <td>s5</td>\n",
       "      <td>TV Show</td>\n",
       "      <td>Kota Factory</td>\n",
       "      <td>NaN</td>\n",
       "      <td>Mayur More, Jitendra Kumar, Ranjan Raj, Alam K...</td>\n",
       "      <td>India</td>\n",
       "      <td>2021-09-24</td>\n",
       "      <td>2021</td>\n",
       "      <td>TV-MA</td>\n",
       "      <td>2 Seasons</td>\n",
       "      <td>International TV Shows, Romantic TV Shows, TV ...</td>\n",
       "      <td>In a city of coaching centers known to train I...</td>\n",
       "      <td>2021.0</td>\n",
       "      <td>September</td>\n",
       "    </tr>\n",
       "  </tbody>\n",
       "</table>\n",
       "</div>"
      ],
      "text/plain": [
       "  show_id     type                  title         director  \\\n",
       "0      s1    Movie   Dick Johnson Is Dead  Kirsten Johnson   \n",
       "1      s2  TV Show          Blood & Water              NaN   \n",
       "2      s3  TV Show              Ganglands  Julien Leclercq   \n",
       "3      s4  TV Show  Jailbirds New Orleans              NaN   \n",
       "4      s5  TV Show           Kota Factory              NaN   \n",
       "\n",
       "                                                cast        country  \\\n",
       "0                                                NaN  United States   \n",
       "1  Ama Qamata, Khosi Ngema, Gail Mabalane, Thaban...   South Africa   \n",
       "2  Sami Bouajila, Tracy Gotoas, Samuel Jouy, Nabi...            NaN   \n",
       "3                                                NaN            NaN   \n",
       "4  Mayur More, Jitendra Kumar, Ranjan Raj, Alam K...          India   \n",
       "\n",
       "  date_added  release_year rating   duration  \\\n",
       "0 2021-09-25          2020  PG-13     90 min   \n",
       "1 2021-09-24          2021  TV-MA  2 Seasons   \n",
       "2 2021-09-24          2021  TV-MA   1 Season   \n",
       "3 2021-09-24          2021  TV-MA   1 Season   \n",
       "4 2021-09-24          2021  TV-MA  2 Seasons   \n",
       "\n",
       "                                           listed_in  \\\n",
       "0                                      Documentaries   \n",
       "1    International TV Shows, TV Dramas, TV Mysteries   \n",
       "2  Crime TV Shows, International TV Shows, TV Act...   \n",
       "3                             Docuseries, Reality TV   \n",
       "4  International TV Shows, Romantic TV Shows, TV ...   \n",
       "\n",
       "                                         description  year_added month_added  \n",
       "0  As her father nears the end of his life, filmm...      2021.0   September  \n",
       "1  After crossing paths at a party, a Cape Town t...      2021.0   September  \n",
       "2  To protect his family from a powerful drug lor...      2021.0   September  \n",
       "3  Feuds, flirtations and toilet talk go down amo...      2021.0   September  \n",
       "4  In a city of coaching centers known to train I...      2021.0   September  "
      ]
     },
     "execution_count": 8,
     "metadata": {},
     "output_type": "execute_result"
    }
   ],
   "source": [
    "#Separamos la columna date_added en 2 columnas: una para el año y otra para el mes, que queremos por su nombre\n",
    "df['year_added']= df['date_added'].dt.year\n",
    "df['month_added']= df['date_added'].dt.month_name()\n",
    "df.head()"
   ]
  },
  {
   "cell_type": "code",
   "execution_count": 9,
   "metadata": {
    "scrolled": false
   },
   "outputs": [],
   "source": [
    "#convertimos la columna 'year_added' con posibles NaN a un numero entero\n",
    "df['year_added'] = df['year_added'].dropna().astype('Int64')\n"
   ]
  },
  {
   "cell_type": "code",
   "execution_count": 10,
   "metadata": {},
   "outputs": [
    {
     "name": "stdout",
     "output_type": "stream",
     "text": [
      "Int64\n",
      "10\n"
     ]
    }
   ],
   "source": [
    "#Comprobamos que ahora la columna está asociada al nuevo tipo e imprimimos el número de nulos \n",
    "print(df['year_added'].dtype)\n",
    "print(df['year_added'].isnull().sum())"
   ]
  },
  {
   "cell_type": "code",
   "execution_count": 11,
   "metadata": {
    "scrolled": false
   },
   "outputs": [],
   "source": [
    "#Añadimos columna 'month_num' para obtener los meses por número y así poder ordenarlos y obtener métricas para gráficos, también cambiamos el tipo de datos de la columna month_num \n",
    "df['month_num'] = df['date_added'].dt.month\n",
    "df['month_num'] = df['month_num'].dropna().astype('Int64')\n"
   ]
  },
  {
   "cell_type": "code",
   "execution_count": 12,
   "metadata": {},
   "outputs": [],
   "source": [
    "#Separamos columnas complejas y las convertimos en listas\n",
    "df['cast'] = df['cast'].fillna('').apply(lambda x: [i.strip() for i in x.split(',')] if x else [])\n",
    "df['listed_in'] = df['listed_in'].fillna('').apply(lambda x: [i.strip() for i in x.split(',')] if x else [])\n",
    "df['director'] = df['director'].fillna('').apply(lambda x: [i.strip() for i in x.split(',')] if x else [])\n"
   ]
  },
  {
   "cell_type": "code",
   "execution_count": 13,
   "metadata": {},
   "outputs": [],
   "source": [
    "#Reemplazamos los NaN de las columnas solo tipo object(texto) y no a numéricas o fechas:\n",
    "df[df.select_dtypes(include='object').columns] = df.select_dtypes(include='object').fillna('unknown')\n"
   ]
  },
  {
   "cell_type": "code",
   "execution_count": 14,
   "metadata": {},
   "outputs": [
    {
     "data": {
      "text/plain": [
       "0"
      ]
     },
     "execution_count": 14,
     "metadata": {},
     "output_type": "execute_result"
    }
   ],
   "source": [
    "#PROCESAMIENTO LA COLUMNA DURATION\n",
    "#Comprobamos los valores que contiene la columna\n",
    "df['duration'].unique()\n",
    "#verificamos si hay elementos nulos\n",
    "df['duration'].isna().sum()"
   ]
  },
  {
   "cell_type": "code",
   "execution_count": 15,
   "metadata": {},
   "outputs": [],
   "source": [
    "#separamos contenido en números y unidad(min/temporadas)\n",
    "#(\\d+) → captura uno o más dígitos (el número)\n",
    "#\\s* → ignora espacios intermedios\n",
    "#(\\D+) → captura los caracteres no numéricos (el tipo)\n",
    "df[['duration_int','duration_type']] = df['duration'].str.extract(r'(\\d+)\\s*(\\D+)')\n"
   ]
  },
  {
   "cell_type": "code",
   "execution_count": 16,
   "metadata": {},
   "outputs": [],
   "source": [
    "#convertimos la columna duration_int a numerico\n",
    "df['duration_int'] = pd.to_numeric(df['duration_int'],errors='coerce')\n",
    "#Comprobar el tipo de dato,valores únicos y los valores nulos de la columna:\n",
    "#df['duration_int'].dtype\n",
    "#df['duration_type'].unique()\n",
    "#df['duration_type'].isna().sum()"
   ]
  },
  {
   "cell_type": "code",
   "execution_count": 17,
   "metadata": {
    "scrolled": true
   },
   "outputs": [],
   "source": [
    "#Normalizamos las unidades\n",
    "df['duration_type'] = df['duration_type'].str.strip().str.lower()\n",
    "df['duration_type'] = df['duration_type'].replace({\n",
    "    'season':'seasons',\n",
    "    'min':'minutes'\n",
    "})\n",
    "df['duration_int'] = df['duration_int'].dropna().astype('Int64')\n"
   ]
  },
  {
   "cell_type": "code",
   "execution_count": 18,
   "metadata": {},
   "outputs": [
    {
     "data": {
      "text/html": [
       "<div>\n",
       "<style scoped>\n",
       "    .dataframe tbody tr th:only-of-type {\n",
       "        vertical-align: middle;\n",
       "    }\n",
       "\n",
       "    .dataframe tbody tr th {\n",
       "        vertical-align: top;\n",
       "    }\n",
       "\n",
       "    .dataframe thead th {\n",
       "        text-align: right;\n",
       "    }\n",
       "</style>\n",
       "<table border=\"1\" class=\"dataframe\">\n",
       "  <thead>\n",
       "    <tr style=\"text-align: right;\">\n",
       "      <th></th>\n",
       "      <th>show_id</th>\n",
       "      <th>type</th>\n",
       "      <th>title</th>\n",
       "      <th>director</th>\n",
       "      <th>cast</th>\n",
       "      <th>country</th>\n",
       "      <th>date_added</th>\n",
       "      <th>release_year</th>\n",
       "      <th>rating</th>\n",
       "      <th>duration</th>\n",
       "      <th>listed_in</th>\n",
       "      <th>description</th>\n",
       "      <th>year_added</th>\n",
       "      <th>month_added</th>\n",
       "      <th>month_num</th>\n",
       "      <th>duration_int</th>\n",
       "      <th>duration_type</th>\n",
       "    </tr>\n",
       "  </thead>\n",
       "  <tbody>\n",
       "    <tr>\n",
       "      <th>0</th>\n",
       "      <td>s1</td>\n",
       "      <td>Movie</td>\n",
       "      <td>Dick Johnson Is Dead</td>\n",
       "      <td>[Kirsten Johnson]</td>\n",
       "      <td>[]</td>\n",
       "      <td>United States</td>\n",
       "      <td>2021-09-25</td>\n",
       "      <td>2020</td>\n",
       "      <td>PG-13</td>\n",
       "      <td>90 min</td>\n",
       "      <td>[Documentaries]</td>\n",
       "      <td>As her father nears the end of his life, filmm...</td>\n",
       "      <td>2021</td>\n",
       "      <td>September</td>\n",
       "      <td>9</td>\n",
       "      <td>90</td>\n",
       "      <td>minutes</td>\n",
       "    </tr>\n",
       "    <tr>\n",
       "      <th>1</th>\n",
       "      <td>s2</td>\n",
       "      <td>TV Show</td>\n",
       "      <td>Blood &amp; Water</td>\n",
       "      <td>[]</td>\n",
       "      <td>[Ama Qamata, Khosi Ngema, Gail Mabalane, Thaba...</td>\n",
       "      <td>South Africa</td>\n",
       "      <td>2021-09-24</td>\n",
       "      <td>2021</td>\n",
       "      <td>TV-MA</td>\n",
       "      <td>2 Seasons</td>\n",
       "      <td>[International TV Shows, TV Dramas, TV Mysteries]</td>\n",
       "      <td>After crossing paths at a party, a Cape Town t...</td>\n",
       "      <td>2021</td>\n",
       "      <td>September</td>\n",
       "      <td>9</td>\n",
       "      <td>2</td>\n",
       "      <td>seasons</td>\n",
       "    </tr>\n",
       "    <tr>\n",
       "      <th>2</th>\n",
       "      <td>s3</td>\n",
       "      <td>TV Show</td>\n",
       "      <td>Ganglands</td>\n",
       "      <td>[Julien Leclercq]</td>\n",
       "      <td>[Sami Bouajila, Tracy Gotoas, Samuel Jouy, Nab...</td>\n",
       "      <td>unknown</td>\n",
       "      <td>2021-09-24</td>\n",
       "      <td>2021</td>\n",
       "      <td>TV-MA</td>\n",
       "      <td>1 Season</td>\n",
       "      <td>[Crime TV Shows, International TV Shows, TV Ac...</td>\n",
       "      <td>To protect his family from a powerful drug lor...</td>\n",
       "      <td>2021</td>\n",
       "      <td>September</td>\n",
       "      <td>9</td>\n",
       "      <td>1</td>\n",
       "      <td>seasons</td>\n",
       "    </tr>\n",
       "    <tr>\n",
       "      <th>3</th>\n",
       "      <td>s4</td>\n",
       "      <td>TV Show</td>\n",
       "      <td>Jailbirds New Orleans</td>\n",
       "      <td>[]</td>\n",
       "      <td>[]</td>\n",
       "      <td>unknown</td>\n",
       "      <td>2021-09-24</td>\n",
       "      <td>2021</td>\n",
       "      <td>TV-MA</td>\n",
       "      <td>1 Season</td>\n",
       "      <td>[Docuseries, Reality TV]</td>\n",
       "      <td>Feuds, flirtations and toilet talk go down amo...</td>\n",
       "      <td>2021</td>\n",
       "      <td>September</td>\n",
       "      <td>9</td>\n",
       "      <td>1</td>\n",
       "      <td>seasons</td>\n",
       "    </tr>\n",
       "    <tr>\n",
       "      <th>4</th>\n",
       "      <td>s5</td>\n",
       "      <td>TV Show</td>\n",
       "      <td>Kota Factory</td>\n",
       "      <td>[]</td>\n",
       "      <td>[Mayur More, Jitendra Kumar, Ranjan Raj, Alam ...</td>\n",
       "      <td>India</td>\n",
       "      <td>2021-09-24</td>\n",
       "      <td>2021</td>\n",
       "      <td>TV-MA</td>\n",
       "      <td>2 Seasons</td>\n",
       "      <td>[International TV Shows, Romantic TV Shows, TV...</td>\n",
       "      <td>In a city of coaching centers known to train I...</td>\n",
       "      <td>2021</td>\n",
       "      <td>September</td>\n",
       "      <td>9</td>\n",
       "      <td>2</td>\n",
       "      <td>seasons</td>\n",
       "    </tr>\n",
       "    <tr>\n",
       "      <th>5</th>\n",
       "      <td>s6</td>\n",
       "      <td>TV Show</td>\n",
       "      <td>Midnight Mass</td>\n",
       "      <td>[Mike Flanagan]</td>\n",
       "      <td>[Kate Siegel, Zach Gilford, Hamish Linklater, ...</td>\n",
       "      <td>unknown</td>\n",
       "      <td>2021-09-24</td>\n",
       "      <td>2021</td>\n",
       "      <td>TV-MA</td>\n",
       "      <td>1 Season</td>\n",
       "      <td>[TV Dramas, TV Horror, TV Mysteries]</td>\n",
       "      <td>The arrival of a charismatic young priest brin...</td>\n",
       "      <td>2021</td>\n",
       "      <td>September</td>\n",
       "      <td>9</td>\n",
       "      <td>1</td>\n",
       "      <td>seasons</td>\n",
       "    </tr>\n",
       "    <tr>\n",
       "      <th>6</th>\n",
       "      <td>s7</td>\n",
       "      <td>Movie</td>\n",
       "      <td>My Little Pony: A New Generation</td>\n",
       "      <td>[Robert Cullen, José Luis Ucha]</td>\n",
       "      <td>[Vanessa Hudgens, Kimiko Glenn, James Marsden,...</td>\n",
       "      <td>unknown</td>\n",
       "      <td>2021-09-24</td>\n",
       "      <td>2021</td>\n",
       "      <td>PG</td>\n",
       "      <td>91 min</td>\n",
       "      <td>[Children &amp; Family Movies]</td>\n",
       "      <td>Equestria's divided. But a bright-eyed hero be...</td>\n",
       "      <td>2021</td>\n",
       "      <td>September</td>\n",
       "      <td>9</td>\n",
       "      <td>91</td>\n",
       "      <td>minutes</td>\n",
       "    </tr>\n",
       "    <tr>\n",
       "      <th>7</th>\n",
       "      <td>s8</td>\n",
       "      <td>Movie</td>\n",
       "      <td>Sankofa</td>\n",
       "      <td>[Haile Gerima]</td>\n",
       "      <td>[Kofi Ghanaba, Oyafunmike Ogunlano, Alexandra ...</td>\n",
       "      <td>United States, Ghana, Burkina Faso, United Kin...</td>\n",
       "      <td>2021-09-24</td>\n",
       "      <td>1993</td>\n",
       "      <td>TV-MA</td>\n",
       "      <td>125 min</td>\n",
       "      <td>[Dramas, Independent Movies, International Mov...</td>\n",
       "      <td>On a photo shoot in Ghana, an American model s...</td>\n",
       "      <td>2021</td>\n",
       "      <td>September</td>\n",
       "      <td>9</td>\n",
       "      <td>125</td>\n",
       "      <td>minutes</td>\n",
       "    </tr>\n",
       "    <tr>\n",
       "      <th>8</th>\n",
       "      <td>s9</td>\n",
       "      <td>TV Show</td>\n",
       "      <td>The Great British Baking Show</td>\n",
       "      <td>[Andy Devonshire]</td>\n",
       "      <td>[Mel Giedroyc, Sue Perkins, Mary Berry, Paul H...</td>\n",
       "      <td>United Kingdom</td>\n",
       "      <td>2021-09-24</td>\n",
       "      <td>2021</td>\n",
       "      <td>TV-14</td>\n",
       "      <td>9 Seasons</td>\n",
       "      <td>[British TV Shows, Reality TV]</td>\n",
       "      <td>A talented batch of amateur bakers face off in...</td>\n",
       "      <td>2021</td>\n",
       "      <td>September</td>\n",
       "      <td>9</td>\n",
       "      <td>9</td>\n",
       "      <td>seasons</td>\n",
       "    </tr>\n",
       "    <tr>\n",
       "      <th>9</th>\n",
       "      <td>s10</td>\n",
       "      <td>Movie</td>\n",
       "      <td>The Starling</td>\n",
       "      <td>[Theodore Melfi]</td>\n",
       "      <td>[Melissa McCarthy, Chris O'Dowd, Kevin Kline, ...</td>\n",
       "      <td>United States</td>\n",
       "      <td>2021-09-24</td>\n",
       "      <td>2021</td>\n",
       "      <td>PG-13</td>\n",
       "      <td>104 min</td>\n",
       "      <td>[Comedies, Dramas]</td>\n",
       "      <td>A woman adjusting to life after a loss contend...</td>\n",
       "      <td>2021</td>\n",
       "      <td>September</td>\n",
       "      <td>9</td>\n",
       "      <td>104</td>\n",
       "      <td>minutes</td>\n",
       "    </tr>\n",
       "  </tbody>\n",
       "</table>\n",
       "</div>"
      ],
      "text/plain": [
       "  show_id     type                             title  \\\n",
       "0      s1    Movie              Dick Johnson Is Dead   \n",
       "1      s2  TV Show                     Blood & Water   \n",
       "2      s3  TV Show                         Ganglands   \n",
       "3      s4  TV Show             Jailbirds New Orleans   \n",
       "4      s5  TV Show                      Kota Factory   \n",
       "5      s6  TV Show                     Midnight Mass   \n",
       "6      s7    Movie  My Little Pony: A New Generation   \n",
       "7      s8    Movie                           Sankofa   \n",
       "8      s9  TV Show     The Great British Baking Show   \n",
       "9     s10    Movie                      The Starling   \n",
       "\n",
       "                          director  \\\n",
       "0                [Kirsten Johnson]   \n",
       "1                               []   \n",
       "2                [Julien Leclercq]   \n",
       "3                               []   \n",
       "4                               []   \n",
       "5                  [Mike Flanagan]   \n",
       "6  [Robert Cullen, José Luis Ucha]   \n",
       "7                   [Haile Gerima]   \n",
       "8                [Andy Devonshire]   \n",
       "9                 [Theodore Melfi]   \n",
       "\n",
       "                                                cast  \\\n",
       "0                                                 []   \n",
       "1  [Ama Qamata, Khosi Ngema, Gail Mabalane, Thaba...   \n",
       "2  [Sami Bouajila, Tracy Gotoas, Samuel Jouy, Nab...   \n",
       "3                                                 []   \n",
       "4  [Mayur More, Jitendra Kumar, Ranjan Raj, Alam ...   \n",
       "5  [Kate Siegel, Zach Gilford, Hamish Linklater, ...   \n",
       "6  [Vanessa Hudgens, Kimiko Glenn, James Marsden,...   \n",
       "7  [Kofi Ghanaba, Oyafunmike Ogunlano, Alexandra ...   \n",
       "8  [Mel Giedroyc, Sue Perkins, Mary Berry, Paul H...   \n",
       "9  [Melissa McCarthy, Chris O'Dowd, Kevin Kline, ...   \n",
       "\n",
       "                                             country date_added  release_year  \\\n",
       "0                                      United States 2021-09-25          2020   \n",
       "1                                       South Africa 2021-09-24          2021   \n",
       "2                                            unknown 2021-09-24          2021   \n",
       "3                                            unknown 2021-09-24          2021   \n",
       "4                                              India 2021-09-24          2021   \n",
       "5                                            unknown 2021-09-24          2021   \n",
       "6                                            unknown 2021-09-24          2021   \n",
       "7  United States, Ghana, Burkina Faso, United Kin... 2021-09-24          1993   \n",
       "8                                     United Kingdom 2021-09-24          2021   \n",
       "9                                      United States 2021-09-24          2021   \n",
       "\n",
       "  rating   duration                                          listed_in  \\\n",
       "0  PG-13     90 min                                    [Documentaries]   \n",
       "1  TV-MA  2 Seasons  [International TV Shows, TV Dramas, TV Mysteries]   \n",
       "2  TV-MA   1 Season  [Crime TV Shows, International TV Shows, TV Ac...   \n",
       "3  TV-MA   1 Season                           [Docuseries, Reality TV]   \n",
       "4  TV-MA  2 Seasons  [International TV Shows, Romantic TV Shows, TV...   \n",
       "5  TV-MA   1 Season               [TV Dramas, TV Horror, TV Mysteries]   \n",
       "6     PG     91 min                         [Children & Family Movies]   \n",
       "7  TV-MA    125 min  [Dramas, Independent Movies, International Mov...   \n",
       "8  TV-14  9 Seasons                     [British TV Shows, Reality TV]   \n",
       "9  PG-13    104 min                                 [Comedies, Dramas]   \n",
       "\n",
       "                                         description  year_added month_added  \\\n",
       "0  As her father nears the end of his life, filmm...        2021   September   \n",
       "1  After crossing paths at a party, a Cape Town t...        2021   September   \n",
       "2  To protect his family from a powerful drug lor...        2021   September   \n",
       "3  Feuds, flirtations and toilet talk go down amo...        2021   September   \n",
       "4  In a city of coaching centers known to train I...        2021   September   \n",
       "5  The arrival of a charismatic young priest brin...        2021   September   \n",
       "6  Equestria's divided. But a bright-eyed hero be...        2021   September   \n",
       "7  On a photo shoot in Ghana, an American model s...        2021   September   \n",
       "8  A talented batch of amateur bakers face off in...        2021   September   \n",
       "9  A woman adjusting to life after a loss contend...        2021   September   \n",
       "\n",
       "   month_num  duration_int duration_type  \n",
       "0          9            90       minutes  \n",
       "1          9             2       seasons  \n",
       "2          9             1       seasons  \n",
       "3          9             1       seasons  \n",
       "4          9             2       seasons  \n",
       "5          9             1       seasons  \n",
       "6          9            91       minutes  \n",
       "7          9           125       minutes  \n",
       "8          9             9       seasons  \n",
       "9          9           104       minutes  "
      ]
     },
     "execution_count": 18,
     "metadata": {},
     "output_type": "execute_result"
    }
   ],
   "source": [
    "#guardamos el nuevo dataframe modificado y comprobamos las modificaciones:\n",
    "df = df.copy()\n",
    "df.head(10)"
   ]
  },
  {
   "cell_type": "markdown",
   "metadata": {},
   "source": [
    "## 📌Análisis descriptivo general"
   ]
  },
  {
   "cell_type": "markdown",
   "metadata": {},
   "source": [
    "### 🎯 <b>Objetivo 1: ¿Qué tipo de contenido hay en Netflix (películas vs series)?</b>\n",
    "\n",
    "📊 <b>Descripción:</b>\n",
    "Queremos saber la distribución de contenido por tipo: cuántas películas y cuántas series hay.\n"
   ]
  },
  {
   "cell_type": "code",
   "execution_count": 19,
   "metadata": {},
   "outputs": [
    {
     "name": "stdout",
     "output_type": "stream",
     "text": [
      "Movie      6131\n",
      "TV Show    2676\n",
      "Name: type, dtype: int64\n"
     ]
    }
   ],
   "source": [
    "#Obtenemos tipo de contenido(peli/serie)\n",
    "type_counts= df['type'].value_counts()\n",
    "print(type_counts)"
   ]
  },
  {
   "cell_type": "code",
   "execution_count": 20,
   "metadata": {},
   "outputs": [
    {
     "data": {
      "image/png": "[encoded data removed]",
      "text/plain": [
       "<Figure size 432x288 with 1 Axes>"
      ]
     },
     "metadata": {
      "needs_background": "light"
     },
     "output_type": "display_data"
    }
   ],
   "source": [
    "#Obtenemos gráfico\n",
    "plt.figure(figsize=(6,4))\n",
    "sns.barplot(x=type_counts.index, y=type_counts.values, palette='pastel')\n",
    "plt.title('Distribución por tipo de contenido')\n",
    "plt.xlabel('Tipo de contenido')\n",
    "plt.ylabel('Cantidad')\n",
    "plt.show()"
   ]
  },
  {
   "cell_type": "markdown",
   "metadata": {},
   "source": [
    "### 🎯 Objetivo 2: ¿Cómo ha evolucionado el contenido a lo largo de los años?\n",
    "\n",
    "📊 <b>Descripción:</b>\n",
    "Queremos ver cuántos títulos se han añadido a Netflix cada año.\n",
    "\n"
   ]
  },
  {
   "cell_type": "code",
   "execution_count": 21,
   "metadata": {},
   "outputs": [],
   "source": [
    "#Nos aseguramos que 'release_year' está en formato int\n",
    "df['release_year'] = df['release_year'].astype(int)\n"
   ]
  },
  {
   "cell_type": "code",
   "execution_count": 22,
   "metadata": {},
   "outputs": [
    {
     "name": "stdout",
     "output_type": "stream",
     "text": [
      "2000      37\n",
      "2001      45\n",
      "2002      51\n",
      "2003      61\n",
      "2004      64\n",
      "2005      80\n",
      "2006      96\n",
      "2007      88\n",
      "2008     136\n",
      "2009     152\n",
      "2010     194\n",
      "2011     185\n",
      "2012     237\n",
      "2013     288\n",
      "2014     352\n",
      "2015     560\n",
      "2016     902\n",
      "2017    1032\n",
      "2018    1147\n",
      "2019    1030\n",
      "2020     953\n",
      "2021     592\n",
      "Name: release_year, dtype: int64\n"
     ]
    }
   ],
   "source": [
    "#Listado de las producciones por año a partir del año 2000\n",
    "yearly_counts = df['release_year'].value_counts().sort_index()\n",
    "print(yearly_counts.tail(22))"
   ]
  },
  {
   "cell_type": "code",
   "execution_count": 23,
   "metadata": {
    "scrolled": true
   },
   "outputs": [
    {
     "data": {
      "image/png": "[encoded data removed]",
      "text/plain": [
       "<Figure size 864x432 with 1 Axes>"
      ]
     },
     "metadata": {
      "needs_background": "light"
     },
     "output_type": "display_data"
    }
   ],
   "source": [
    "#Gráfico\n",
    "plt.figure(figsize=(12,6))\n",
    "sns.lineplot(x=yearly_counts.index,y=yearly_counts.values, marker='o')\n",
    "plt.title('Títulos añadidos por año')\n",
    "plt.xlabel('Año de estreno')\n",
    "plt.ylabel('Cantidad de títulos')\n",
    "plt.grid(True)\n",
    "plt.show()"
   ]
  },
  {
   "cell_type": "markdown",
   "metadata": {},
   "source": [
    "### 🎯 Objetivo 3: ¿Cuál es la duración promedio de las películas?\n",
    "<b>📊 Descripción</b>\n",
    "Aquí analizamos solamente películas (type == \"Movie\") y vemos la duración promedio, mínima y máxima."
   ]
  },
  {
   "cell_type": "code",
   "execution_count": 24,
   "metadata": {},
   "outputs": [
    {
     "name": "stdout",
     "output_type": "stream",
     "text": [
      "count    6128.000000\n",
      "mean       99.577187\n",
      "std        28.290593\n",
      "min         3.000000\n",
      "25%        87.000000\n",
      "50%        98.000000\n",
      "75%       114.000000\n",
      "max       312.000000\n",
      "Name: duration_int, dtype: float64\n"
     ]
    }
   ],
   "source": [
    "#filtramos películas\n",
    "movies_df = df[df['type']=='Movie']\n",
    "#Estadísticas básicas:\n",
    "print(movies_df['duration_int'].describe())\n"
   ]
  },
  {
   "cell_type": "code",
   "execution_count": 25,
   "metadata": {},
   "outputs": [
    {
     "data": {
      "image/png": "[encoded data removed]",
      "text/plain": [
       "<Figure size 720x360 with 1 Axes>"
      ]
     },
     "metadata": {
      "needs_background": "light"
     },
     "output_type": "display_data"
    }
   ],
   "source": [
    "#Gráfico\n",
    "plt.figure(figsize=(10,5))\n",
    "sns.histplot(movies_df['duration_int'],bins=30,color='skyblue')\n",
    "plt.title('Distribución de duraciónde películas')\n",
    "plt.xlabel('Duración en minutos')\n",
    "plt.ylabel('Cantidad de películas')\n",
    "plt.show()"
   ]
  },
  {
   "cell_type": "markdown",
   "metadata": {},
   "source": [
    "### 🎯 Objetivo 4: ¿Cuáles son los países con más contenido en Netflix?\n",
    "<b>📊 Descripción</b>\n",
    "Muestra los países con mayor número de títulos en la plataforma."
   ]
  },
  {
   "cell_type": "code",
   "execution_count": 26,
   "metadata": {
    "scrolled": true
   },
   "outputs": [],
   "source": [
    "#Limpiamos el campo con los valores a una misma fila\n",
    "df['country_clean'] = df['country'].fillna('unknown').apply(lambda x: x.split(',')[0].strip())\n"
   ]
  },
  {
   "cell_type": "code",
   "execution_count": 27,
   "metadata": {},
   "outputs": [
    {
     "name": "stdout",
     "output_type": "stream",
     "text": [
      "United States     3211\n",
      "India             1008\n",
      "unknown            831\n",
      "United Kingdom     628\n",
      "Canada             271\n",
      "Japan              259\n",
      "France             212\n",
      "South Korea        211\n",
      "Spain              181\n",
      "Mexico             134\n",
      "Name: country_clean, dtype: int64\n"
     ]
    }
   ],
   "source": [
    "#Listado de los 10 paises con más producciones:\n",
    "top_countries = df['country_clean'].value_counts().head(10)\n",
    "print(top_countries)"
   ]
  },
  {
   "cell_type": "code",
   "execution_count": 28,
   "metadata": {},
   "outputs": [
    {
     "data": {
      "image/png": "[encoded data removed]",
      "text/plain": [
       "<Figure size 720x360 with 1 Axes>"
      ]
     },
     "metadata": {
      "needs_background": "light"
     },
     "output_type": "display_data"
    }
   ],
   "source": [
    "plt.figure(figsize=(10,5))\n",
    "sns.barplot(x=top_countries.values,y=top_countries.index, palette='viridis')\n",
    "plt.title('Top 10 países con más contenido')\n",
    "plt.xlabel('Número de producciones')\n",
    "plt.ylabel('País')\n",
    "plt.show()"
   ]
  },
  {
   "cell_type": "markdown",
   "metadata": {},
   "source": [
    "### 🎯 Objetivo 5 :  ¿Cuáles son los géneros más comunes?\n",
    "<b>📊 Descripción</b>\n",
    "Analiza los géneros principales en Netflix."
   ]
  },
  {
   "cell_type": "code",
   "execution_count": 29,
   "metadata": {},
   "outputs": [],
   "source": [
    "#Como antes hemos convertido 'listed_in' en una lista de elementos, ahora la podemos explotar directamente:\n",
    "genres_exploded = df.explode('listed_in')\n",
    "\n",
    "#Limpiamos espacios por si acaso\n",
    "genres_exploded['listed_in'] =  genres_exploded['listed_in'].str.strip()\n"
   ]
  },
  {
   "cell_type": "code",
   "execution_count": 30,
   "metadata": {},
   "outputs": [
    {
     "name": "stdout",
     "output_type": "stream",
     "text": [
      "International Movies        2752\n",
      "Dramas                      2427\n",
      "Comedies                    1674\n",
      "International TV Shows      1351\n",
      "Documentaries                869\n",
      "Action & Adventure           859\n",
      "TV Dramas                    763\n",
      "Independent Movies           756\n",
      "Children & Family Movies     641\n",
      "Romantic Movies              616\n",
      "Name: listed_in, dtype: int64\n"
     ]
    }
   ],
   "source": [
    "#Recuento de géneros en el catálogo\n",
    "top_genres = genres_exploded['listed_in'].value_counts().head(10)\n",
    "print(top_genres)"
   ]
  },
  {
   "cell_type": "code",
   "execution_count": 31,
   "metadata": {},
   "outputs": [
    {
     "data": {
      "image/png": "[encoded data removed]",
      "text/plain": [
       "<Figure size 720x360 with 1 Axes>"
      ]
     },
     "metadata": {
      "needs_background": "light"
     },
     "output_type": "display_data"
    }
   ],
   "source": [
    "#Gráfico\n",
    "\n",
    "plt.figure(figsize=(10,5))\n",
    "sns.barplot(x=top_genres.values, y=top_genres.index, palette='coolwarm')\n",
    "plt.title('Top 10 géneros Netflix')\n",
    "plt.xlabel('Nº de títulos')\n",
    "plt.ylabel('Género')\n",
    "plt.show()"
   ]
  },
  {
   "cell_type": "markdown",
   "metadata": {},
   "source": [
    "### 🎯 Objetivo 6 :  ¿En que época del año se producen más lanzamientos?\n",
    "<b>📊 Descripción</b>\n",
    "Análisis de estacionalidad de lanzamientos en Netflix"
   ]
  },
  {
   "cell_type": "markdown",
   "metadata": {},
   "source": [
    "### Listado de lanzamientos por mes"
   ]
  },
  {
   "cell_type": "code",
   "execution_count": 32,
   "metadata": {},
   "outputs": [
    {
     "name": "stdout",
     "output_type": "stream",
     "text": [
      "July         827\n",
      "December     813\n",
      "September    770\n",
      "April        764\n",
      "October      760\n",
      "August       755\n",
      "March        742\n",
      "January      738\n",
      "June         728\n",
      "November     705\n",
      "May          632\n",
      "February     563\n",
      "unknown       10\n",
      "Name: month_added, dtype: int64\n"
     ]
    }
   ],
   "source": [
    "#Listado de lanzamientos por mes\n",
    "monthly_releases = df['month_added'].value_counts().sort_values(ascending=False)\n",
    "print(monthly_releases)"
   ]
  },
  {
   "cell_type": "code",
   "execution_count": 33,
   "metadata": {},
   "outputs": [
    {
     "data": {
      "image/png": "[encoded data removed]",
      "text/plain": [
       "<Figure size 864x432 with 1 Axes>"
      ]
     },
     "metadata": {
      "needs_background": "light"
     },
     "output_type": "display_data"
    }
   ],
   "source": [
    "#Gráfico\n",
    "plt.figure(figsize=(12,6))\n",
    "sns.barplot(x=monthly_releases.index,y=monthly_releases.values,palette='magma')\n",
    "plt.title('Estacionalidad de lanzamientos en Netflix')\n",
    "plt.xlabel('Mes')\n",
    "plt.ylabel('Cantidad de lanzamientos')\n",
    "plt.xticks(rotation=45)\n",
    "plt.grid(axis='y', linestyle='--', alpha=0.7)\n",
    "plt.tight_layout()\n",
    "plt.show()"
   ]
  },
  {
   "cell_type": "markdown",
   "metadata": {},
   "source": [
    "## 📑Conclusiones principales y recomendaciones"
   ]
  },
  {
   "cell_type": "markdown",
   "metadata": {},
   "source": [
    "### Conclusiones principales\n",
    "\n",
    "\n",
    "📍El catálogo de Netflix está compuesto mayoritariamente por películas, aunque las series muestran un crecimiento sostenido.\n",
    "\n",
    "\n",
    "📍La mayor parte del contenido fue lanzado entre 2015 y 2020, con un pico evidente en años recientes, lo que indica una estrategia de expansión agresiva.\n",
    "    \n",
    "\n",
    "📍La duración promedio de las películas ronda los 90 minutos, con una distribución lógica centrada entre los 80 y 120 minutos.\n",
    "   \n",
    "\n",
    "📍Estados Unidos es con diferencia el país con mayor volumen de contenido, seguido por India, Reino Unido y Canadá.\n",
    "   \n",
    "\n",
    "📍Los géneros más comunes están relacionados con el drama, la comedia y el contenido internacional.\n",
    "    \n",
    "\n",
    "📍Existe una cierta estacionalidad en los lanzamientos, con picos en los meses de verano y navideños, probablemente alineados con las vacaciones escolares.\n",
    "\n",
    "\n",
    "\n",
    "\n",
    "\n",
    "\n",
    "\n",
    "\n",
    "\n",
    "\n"
   ]
  },
  {
   "cell_type": "markdown",
   "metadata": {},
   "source": [
    "### Recomendaciones\n",
    "\n",
    "\n",
    "📍Explorar oportunidades de crecimiento en contenido local para mercados infrarepresentados, como España o América Latina.\n",
    "\n",
    "\n",
    "\n",
    "📍Potenciar la categoría de contenido familiar e infantil durante los meses con mayor consumo estacional.\n",
    "\n",
    "\n",
    "\n",
    "📍Analizar posibles saturaciones en géneros dominantes y considerar diversificación en nichos emergentes.\n",
    "\n",
    "\n",
    "\n",
    "📍Evaluar la relación entre tipo de contenido y duración para optimizar producciones futuras.\n",
    "\n",
    "\n",
    "\n",
    "📍Investigar colaboraciones con países subrepresentados que tienen potencial de crecimiento en suscriptores.\n",
    "\n",
    "\n",
    "\n",
    "\n",
    "\n",
    "\n",
    "\n",
    "\n",
    "\n",
    "\n",
    "\n"
   ]
  },
  {
   "cell_type": "markdown",
   "metadata": {},
   "source": [
    "## MÉTRICAS AVANZADAS"
   ]
  },
  {
   "cell_type": "markdown",
   "metadata": {},
   "source": [
    "### 🧠 Objetivo 7 – Segmentación de contenido por clustering de géneros\n",
    "\n",
    "<b>🎯 ¿Qué buscamos?</b>\n",
    "\n",
    "Agrupar títulos por similaridad de géneros usando una técnica de aprendizaje no supervisado (clustering), para ver si se pueden identificar “tipos de contenido” dominantes en Netflix."
   ]
  },
  {
   "cell_type": "code",
   "execution_count": 34,
   "metadata": {},
   "outputs": [],
   "source": [
    "#convertir listas de generos a string por título\n",
    "df['genre_str'] = df['listed_in'].apply(lambda x: ''.join(x))\n"
   ]
  },
  {
   "cell_type": "code",
   "execution_count": 35,
   "metadata": {},
   "outputs": [],
   "source": [
    "#Vectorizamos:\n",
    "#convertimos texto en valores numéricos\n",
    "vectorizer = CountVectorizer()\n",
    "X=vectorizer.fit_transform(df['genre_str'])"
   ]
  },
  {
   "cell_type": "code",
   "execution_count": 36,
   "metadata": {
    "scrolled": false
   },
   "outputs": [],
   "source": [
    "#Cluster Kmeans\n",
    "#Agrupamos datos en clusters automáticos\n",
    "kmeans = KMeans(n_clusters=5,random_state=42)\n",
    "df['cluster'] = kmeans.fit_predict(X)"
   ]
  },
  {
   "cell_type": "code",
   "execution_count": 37,
   "metadata": {},
   "outputs": [
    {
     "data": {
      "text/plain": [
       "2    3214\n",
       "4    3140\n",
       "1    1450\n",
       "3     610\n",
       "0     393\n",
       "Name: cluster, dtype: int64"
      ]
     },
     "execution_count": 37,
     "metadata": {},
     "output_type": "execute_result"
    }
   ],
   "source": [
    "#Para ver los titulos de un cluster concreto, por ejemplo el 0:\n",
    "df[df['cluster'] == 0][['title', 'listed_in']].head(10)\n",
    "#para ver cuantos títulos hay en cada grupo\n",
    "df['cluster'].value_counts()"
   ]
  },
  {
   "cell_type": "code",
   "execution_count": 38,
   "metadata": {},
   "outputs": [],
   "source": [
    "#Reducir dimensiones del cluster para visualizar datos complejos y graficar resultados\n",
    "pca = PCA(n_components=2)\n",
    "components = pca.fit_transform(X.toarray())"
   ]
  },
  {
   "cell_type": "code",
   "execution_count": 39,
   "metadata": {},
   "outputs": [
    {
     "data": {
      "image/png": "[encoded data removed]",
      "text/plain": [
       "<Figure size 720x432 with 1 Axes>"
      ]
     },
     "metadata": {
      "needs_background": "light"
     },
     "output_type": "display_data"
    }
   ],
   "source": [
    "#Generamos nuevo dataset para poder asignar un color a cada cluster\n",
    "labels = kmeans.labels_\n",
    "df_pca = pd.DataFrame(\n",
    "    components,\n",
    "    columns=['PC1','PC2'],              # nombres para los ejes\n",
    "    index=df['cluster'].index             # opcional: hereda el mismo índice\n",
    ")\n",
    "df_pca['cluster'] = labels             # añadimos la columna de color\n",
    "\n",
    "\n",
    "plt.figure(figsize=(10,6))\n",
    "sns.scatterplot(\n",
    "    data=df_pca,\n",
    "    x='PC1', y='PC2',\n",
    "    hue='cluster',                       # asigna un color por etiqueta\n",
    "    palette='tab10',\n",
    "    legend='full'\n",
    ")\n",
    "plt.title('Clusters de géneros en el catálogo de Netflix')\n",
    "plt.show()\n"
   ]
  },
  {
   "cell_type": "code",
   "execution_count": 40,
   "metadata": {},
   "outputs": [
    {
     "name": "stdout",
     "output_type": "stream",
     "text": [
      "cluster  genres_list                 \n",
      "0        Stand-Up Comedy                  343\n",
      "         Stand-Up Comedy & Talk Shows      50\n",
      "         TV Comedies                       34\n",
      "         International TV Shows            12\n",
      "         Music & Musicals                   7\n",
      "1        International TV Shows          1206\n",
      "         TV Dramas                        629\n",
      "         Crime TV Shows                   408\n",
      "         Romantic TV Shows                355\n",
      "         TV Comedies                      288\n",
      "2        Dramas                           660\n",
      "         Thrillers                        577\n",
      "         Documentaries                    509\n",
      "         International Movies             489\n",
      "         Kids' TV                         428\n",
      "3        Children & Family Movies         610\n",
      "         Comedies                         270\n",
      "         Dramas                            86\n",
      "         Music & Musicals                  38\n",
      "         International Movies              22\n",
      "4        International Movies            2241\n",
      "         Dramas                          1681\n",
      "         Comedies                        1066\n",
      "         Independent Movies               657\n",
      "         Romantic Movies                  587\n",
      "Name: genres_list, dtype: int64\n"
     ]
    }
   ],
   "source": [
    "#Identificar generos predominantes por cluster\n",
    "# Explota los géneros\n",
    "df['genres_list'] = df['listed_in']\n",
    "genres_clustered = df.explode('genres_list')\n",
    "\n",
    "# Agrupa por cluster y cuenta géneros más comunes\n",
    "top_genres_by_cluster = genres_clustered.groupby('cluster')['genres_list'].value_counts().groupby('cluster').head(5)\n",
    "\n",
    "print(top_genres_by_cluster)\n"
   ]
  },
  {
   "cell_type": "markdown",
   "metadata": {},
   "source": [
    "## 📑Conclusiones específicas:\n",
    "\n",
    "📍<b>Comedia en vivo muy diferenciada</b>: el análisis crea un clúster exclusivo de Stand-Up y Talk Shows, indicando un nicho sólido para monólogos y especiales de comedia.\n",
    "\n",
    "\n",
    "📍<b>Series internacionales de drama y crimen</b>: otro grupo agrupa mayoritariamente International TV Shows, Dramas y Crime TV Shows, señalando fuerte demanda de producciones foráneas y de investigación.\n",
    "\n",
    "\n",
    "📍<b>Películas diversificadas</b>: el bloque principal fusiona cine serio (drama, thriller, documental), cine familiar/comedia ligera y películas internacionales/independientes."
   ]
  },
  {
   "cell_type": "markdown",
   "metadata": {},
   "source": [
    "## 📊 Objetivo 8 – Simulación de recomendador simple basado en similitud de contenido\n",
    "<b>🎯 ¿Qué buscamos?</b>\n",
    "Dado un título concreto, recomendar otros similares según el contenido textual (descripción, género, tipo…)."
   ]
  },
  {
   "cell_type": "code",
   "execution_count": 41,
   "metadata": {},
   "outputs": [],
   "source": [
    "#Hay que unir description,listed_in y type en un solo campo:\n",
    "df['combined'] = df['type'] + ' ' + df['description'].fillna('') + ' ' + df['genre_str']\n"
   ]
  },
  {
   "cell_type": "code",
   "execution_count": 42,
   "metadata": {},
   "outputs": [],
   "source": [
    "#Vectorizamos con TdifVectorizer\n",
    "tfidf = TfidfVectorizer(stop_words='english')\n",
    "tfidf_matrix = tfidf.fit_transform(df['combined'])"
   ]
  },
  {
   "cell_type": "code",
   "execution_count": 43,
   "metadata": {},
   "outputs": [
    {
     "data": {
      "text/plain": [
       "NearestNeighbors(algorithm='brute', metric='cosine')"
      ]
     },
     "execution_count": 43,
     "metadata": {},
     "output_type": "execute_result"
    }
   ],
   "source": [
    "#vamos a usar NearestNeighbor,que permite encontrar, para un punto dado, \n",
    "#los puntos más cercanos (similares) en un conjunto de datos.\n",
    "model = NearestNeighbors(metric='cosine', algorithm='brute')\n",
    "model.fit(tfidf_matrix)"
   ]
  },
  {
   "cell_type": "code",
   "execution_count": 49,
   "metadata": {},
   "outputs": [],
   "source": [
    "# Buscar similares a un título específico\n",
    "idx=35 #suponemos que quermos la similitud del titulo en la fila i, en este caso 35\n",
    "distances, indices = model.kneighbors(tfidf_matrix[idx], n_neighbors=6)"
   ]
  },
  {
   "cell_type": "code",
   "execution_count": 50,
   "metadata": {},
   "outputs": [
    {
     "data": {
      "text/html": [
       "<div>\n",
       "<style scoped>\n",
       "    .dataframe tbody tr th:only-of-type {\n",
       "        vertical-align: middle;\n",
       "    }\n",
       "\n",
       "    .dataframe tbody tr th {\n",
       "        vertical-align: top;\n",
       "    }\n",
       "\n",
       "    .dataframe thead th {\n",
       "        text-align: right;\n",
       "    }\n",
       "</style>\n",
       "<table border=\"1\" class=\"dataframe\">\n",
       "  <thead>\n",
       "    <tr style=\"text-align: right;\">\n",
       "      <th></th>\n",
       "      <th>title</th>\n",
       "      <th>description</th>\n",
       "    </tr>\n",
       "  </thead>\n",
       "  <tbody>\n",
       "    <tr>\n",
       "      <th>8686</th>\n",
       "      <td>Waar</td>\n",
       "      <td>When Pakistani authorities learn of a looming ...</td>\n",
       "    </tr>\n",
       "    <tr>\n",
       "      <th>2272</th>\n",
       "      <td>Drishyam</td>\n",
       "      <td>An unexceptional man becomes a murder suspect ...</td>\n",
       "    </tr>\n",
       "    <tr>\n",
       "      <th>7803</th>\n",
       "      <td>Punjab 1984</td>\n",
       "      <td>During a time of political turmoil, a mother g...</td>\n",
       "    </tr>\n",
       "    <tr>\n",
       "      <th>8683</th>\n",
       "      <td>Vodka Diaries</td>\n",
       "      <td>While investigating a series of murders and th...</td>\n",
       "    </tr>\n",
       "    <tr>\n",
       "      <th>8652</th>\n",
       "      <td>Ugly</td>\n",
       "      <td>When a 10-year-old goes missing while her fath...</td>\n",
       "    </tr>\n",
       "  </tbody>\n",
       "</table>\n",
       "</div>"
      ],
      "text/plain": [
       "              title                                        description\n",
       "8686           Waar  When Pakistani authorities learn of a looming ...\n",
       "2272       Drishyam  An unexceptional man becomes a murder suspect ...\n",
       "7803    Punjab 1984  During a time of political turmoil, a mother g...\n",
       "8683  Vodka Diaries  While investigating a series of murders and th...\n",
       "8652           Ugly  When a 10-year-old goes missing while her fath..."
      ]
     },
     "execution_count": 50,
     "metadata": {},
     "output_type": "execute_result"
    }
   ],
   "source": [
    "# Mostrar resultados excluyendo el mismo título\n",
    "df.iloc[indices[0][1:]][['title', 'description']]"
   ]
  },
  {
   "cell_type": "code",
   "execution_count": 51,
   "metadata": {},
   "outputs": [],
   "source": [
    "#Mapeo entre títulos y su índice\n",
    "indices = pd.Series(df.index, index=df['title']).drop_duplicates()\n",
    "\n",
    "#Función basada en NearestNeighbors\n",
    "def recomendar(titulo, top_n=5):\n",
    "    idx = indices[titulo]\n",
    "    distances, neighbors = model.kneighbors(tfidf_matrix[idx], n_neighbors=top_n+1)  # +1 porque el más cercano es el mismo\n",
    "    similares = neighbors[0][1:]  # Excluye el propio título\n",
    "    return df.iloc[similares][['title', 'type', 'listed_in', 'description']]\n"
   ]
  },
  {
   "cell_type": "code",
   "execution_count": 52,
   "metadata": {},
   "outputs": [
    {
     "data": {
      "text/html": [
       "<div>\n",
       "<style scoped>\n",
       "    .dataframe tbody tr th:only-of-type {\n",
       "        vertical-align: middle;\n",
       "    }\n",
       "\n",
       "    .dataframe tbody tr th {\n",
       "        vertical-align: top;\n",
       "    }\n",
       "\n",
       "    .dataframe thead th {\n",
       "        text-align: right;\n",
       "    }\n",
       "</style>\n",
       "<table border=\"1\" class=\"dataframe\">\n",
       "  <thead>\n",
       "    <tr style=\"text-align: right;\">\n",
       "      <th></th>\n",
       "      <th>title</th>\n",
       "      <th>type</th>\n",
       "      <th>listed_in</th>\n",
       "      <th>description</th>\n",
       "    </tr>\n",
       "  </thead>\n",
       "  <tbody>\n",
       "    <tr>\n",
       "      <th>2606</th>\n",
       "      <td>Extracurricular</td>\n",
       "      <td>TV Show</td>\n",
       "      <td>[Crime TV Shows, International TV Shows, Korea...</td>\n",
       "      <td>A model high school student who's steeped in a...</td>\n",
       "    </tr>\n",
       "    <tr>\n",
       "      <th>4118</th>\n",
       "      <td>Iron Ladies</td>\n",
       "      <td>TV Show</td>\n",
       "      <td>[International TV Shows, Romantic TV Shows, TV...</td>\n",
       "      <td>Three 30-something women in high-level jobs at...</td>\n",
       "    </tr>\n",
       "    <tr>\n",
       "      <th>1587</th>\n",
       "      <td>Detention</td>\n",
       "      <td>TV Show</td>\n",
       "      <td>[International TV Shows, TV Dramas, TV Horror]</td>\n",
       "      <td>A tormented student uncovers unsettling secret...</td>\n",
       "    </tr>\n",
       "    <tr>\n",
       "      <th>6616</th>\n",
       "      <td>Dismissed</td>\n",
       "      <td>Movie</td>\n",
       "      <td>[Thrillers]</td>\n",
       "      <td>An intelligent but intense honor student traum...</td>\n",
       "    </tr>\n",
       "    <tr>\n",
       "      <th>5352</th>\n",
       "      <td>Have You Ever Fallen in Love, Miss Jiang?</td>\n",
       "      <td>TV Show</td>\n",
       "      <td>[Crime TV Shows, International TV Shows, TV Dr...</td>\n",
       "      <td>A new teacher finds herself in an unenviable s...</td>\n",
       "    </tr>\n",
       "  </tbody>\n",
       "</table>\n",
       "</div>"
      ],
      "text/plain": [
       "                                          title     type  \\\n",
       "2606                            Extracurricular  TV Show   \n",
       "4118                                Iron Ladies  TV Show   \n",
       "1587                                  Detention  TV Show   \n",
       "6616                                  Dismissed    Movie   \n",
       "5352  Have You Ever Fallen in Love, Miss Jiang?  TV Show   \n",
       "\n",
       "                                              listed_in  \\\n",
       "2606  [Crime TV Shows, International TV Shows, Korea...   \n",
       "4118  [International TV Shows, Romantic TV Shows, TV...   \n",
       "1587     [International TV Shows, TV Dramas, TV Horror]   \n",
       "6616                                        [Thrillers]   \n",
       "5352  [Crime TV Shows, International TV Shows, TV Dr...   \n",
       "\n",
       "                                            description  \n",
       "2606  A model high school student who's steeped in a...  \n",
       "4118  Three 30-something women in high-level jobs at...  \n",
       "1587  A tormented student uncovers unsettling secret...  \n",
       "6616  An intelligent but intense honor student traum...  \n",
       "5352  A new teacher finds herself in an unenviable s...  "
      ]
     },
     "execution_count": 52,
     "metadata": {},
     "output_type": "execute_result"
    }
   ],
   "source": [
    "recomendar('Breaking Bad', top_n=5)\n"
   ]
  }
 ],
 "metadata": {
  "kernelspec": {
   "display_name": "Python 3",
   "language": "python",
   "name": "python3"
  },
  "language_info": {
   "codemirror_mode": {
    "name": "ipython",
    "version": 3
   },
   "file_extension": ".py",
   "mimetype": "text/x-python",
   "name": "python",
   "nbconvert_exporter": "python",
   "pygments_lexer": "ipython3",
   "version": "3.8.5"
  }
 },
 "nbformat": 4,
 "nbformat_minor": 4
}
